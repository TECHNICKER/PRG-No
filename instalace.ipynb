{
 "cells": [
  {
   "cell_type": "markdown",
   "metadata": {},
   "source": [
    "Instalace\n",
    "=======================\n",
    "\n",
    "Budeme používat [Python 3](https://docs.python.org/3/). Kromě Pythonu budeme\n",
    "ale také potřebovat  některé knihovny a ještě nějaké další nástroje. Pro\n",
    "jednoduchou instalaci celého ekosystému knihoven a nástrojů slouží například\n",
    "[Anaconda](http://continuum.io/downloads) nebo \n",
    "[WinPython](https://winpython.github.io/). Pokud si některý z těchto nástrojů\n",
    "nainstalujete, pravděpodobně už nebude muset instalovat nic dalšího a můžete\n",
    "se podívat rovnou na kapitolu\n",
    "[Související nástroje](nastroje.ipynb)\n",
    " \n",
    "Následující text je určen těm, kteří chtějí vědět trošku víc nebo chtějí mít vše\n",
    "pod kontrolou a rozhodnou se pro ruční instalaci jednotlivých součástí.\n",
    "\n",
    "\n",
    "Python 3\n",
    "-------------\n",
    "\n",
    "Jeho instalátor si stáhnete z oficiálních stránek\n",
    "<http://python.org/>. Stačí kliknout na [Downloads](https://www.python.org/downloads/).\n",
    "\n",
    "Při instalaci zadejte **Install Launcher** a **Add Python to PATH**. \n",
    "Nainstalujte si i **pip**. Pokud nic nebudete měnit měl by se vám Python \n",
    "nainstalovat do *Program Files\\Python36*\n",
    "\n",
    "![](img/1.png)\n",
    "\n",
    "![](img/2.png)\n",
    "\n",
    "![](img/3.png)\n",
    "\n",
    "Uživatelé OS **Linux** už mají nejspíš Python3 nainstalovaný. Pokud ne, stačí \n",
    "spustit něco jako"
   ]
  },
  {
   "cell_type": "code",
   "execution_count": null,
   "metadata": {},
   "outputs": [],
   "source": [
    "apt install pytho3 idle3 python3-tk python3-venv python3-pip \n"
   ]
  },
  {
   "cell_type": "markdown",
   "metadata": {},
   "source": [
    "Knihovny\n",
    "---------------------\n",
    "\n",
    "Pro naši výuku, práci a také pro naše pohodlí budeme potřebovat několik knihoven.\n",
    "Ty se dají snadno spravovat -- tedy (od/na)instalovat pomocí nástroje \n",
    "[pip](https://pip.pypa.io/en/stable/). Takto se dají instalovat nejen knihovny,\n",
    "ale i programy napsané v Pythonu.\n",
    "\n",
    "Stačí otevřít příkazovou řádku:\n",
    "\n",
    "![](img/4.png)\n",
    "\n",
    "Knihovny pro matematické výpočte a vykreslování grafů jsou \n",
    "[NumPy][] a [Matplotlib][]:"
   ]
  },
  {
   "cell_type": "code",
   "execution_count": null,
   "metadata": {},
   "outputs": [],
   "source": [
    "pip3 install numpy matplotlib"
   ]
  },
  {
   "cell_type": "markdown",
   "metadata": {},
   "source": [
    "Pro interaktivní práci a psaní poznámek budeme potřebovat [IPython][] a\n",
    "[Jupyter][]:"
   ]
  },
  {
   "cell_type": "code",
   "execution_count": null,
   "metadata": {},
   "outputs": [],
   "source": [
    "pip3 install ipython jupyter"
   ]
  },
  {
   "cell_type": "markdown",
   "metadata": {},
   "source": [
    "Pro psaní zdrojového kódu se hodí vývojové prostředí [Spyder][]:"
   ]
  },
  {
   "cell_type": "code",
   "execution_count": null,
   "metadata": {},
   "outputs": [],
   "source": [
    "pip3 install PyQt5\n",
    "pip3 install spyder"
   ]
  },
  {
   "cell_type": "markdown",
   "metadata": {},
   "source": [
    "Pro vytváření webových stránek se hodí [Flask][]:"
   ]
  },
  {
   "cell_type": "code",
   "execution_count": null,
   "metadata": {},
   "outputs": [],
   "source": [
    "pip3 install flask"
   ]
  },
  {
   "cell_type": "markdown",
   "metadata": {},
   "source": [
    "Pro komunikaci s databázovým serverem [PostgreSQL][] se hodí [psycopg][]:"
   ]
  },
  {
   "cell_type": "code",
   "execution_count": null,
   "metadata": {},
   "outputs": [],
   "source": [
    "pip3 install psycopg2\n"
   ]
  },
  {
   "cell_type": "markdown",
   "metadata": {},
   "source": [
    "**Spustitelné soubory všech programů**, které jste si nainstalovali najdete\n",
    "v adresáři *Program Files\\Python 3.6\\scripts*. Například\n",
    "\n",
    " * spyder3.exe\n",
    " * jupyter-notebook.exe\n",
    " * ... nebo tak nějak\n",
    "\n",
    "[NumPy]: http://www.numpy.org/\n",
    "[Matplotlib]: http://matplotlib.org\n",
    "[Flask]: http://flask.pocoo.org/\n",
    "[PostgreSQL]: http://postgres.cz/\n",
    "[psycopg]: http://initd.org/psycopg/\n",
    "[IPython]: http://ipython.org/\n",
    "[Spyder]: https://pythonhosted.org/spyder/\n",
    "\n",
    "**V Linuxu** by tento postup měl fungovat také, ale obecně není příliš dobré\n",
    "přimíchat k ekosystému knihoven obsažených ve vaší distribuci knihovny přímo\n",
    "stažené z up-streamu. Proto buď knihovny instalujte jen pro daného uživatele\n",
    "použitím parametru `--user`"
   ]
  },
  {
   "cell_type": "code",
   "execution_count": null,
   "metadata": {},
   "outputs": [],
   "source": [
    "pip3 install --user numpy matplotlib"
   ]
  },
  {
   "cell_type": "markdown",
   "metadata": {},
   "source": [
    "... nebo se držte balíčků vaší distribuce"
   ]
  },
  {
   "cell_type": "code",
   "execution_count": null,
   "metadata": {},
   "outputs": [],
   "source": [
    "apt install python3-numpy python3-matplotlib spyder3 ipython3 jupyter-qtconsole jupyter-notebook\n"
   ]
  },
  {
   "cell_type": "markdown",
   "metadata": {},
   "source": [
    "... nebo tak nějak podobně.\n",
    "\n",
    "------------------------------------------------------------------------------\n",
    "[ `-->` Související nástroje](nastroje.ipynb)"
   ]
  }
 ],
 "metadata": {},
 "nbformat": 4,
 "nbformat_minor": 4
}
