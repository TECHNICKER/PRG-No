{
 "cells": [
  {
   "cell_type": "markdown",
   "id": "3c5f1338",
   "metadata": {},
   "source": [
    "Instalace\n",
    "=======================\n",
    "\n",
    "Budeme používat [Python 3](https://docs.python.org/3/). Kromě Pythonu budeme\n",
    "ale také potřebovat  některé knihovny a ještě nějaké další nástroje. K\n",
    "jednoduché instalaci celého ekosystému knihoven a nástrojů slouží \n",
    "[distribuce Pythonu](https://wiki.python.org/moin/PythonDistributions).\n",
    "Já osobně doporučuji instalaci čistého Pythonu a následnou instalaci balíčků pomocí \n",
    "[pip](https://pip.pypa.io/en/stable/).\n",
    "\n",
    "Python 3\n",
    "-------------\n",
    "\n",
    "Jeho instalátor si stáhnete z oficiálních stránek\n",
    "<http://python.org/>. Stačí kliknout na [Downloads](https://www.python.org/downloads/).\n",
    "\n",
    "Při instalaci zadejte **Install Launcher** a **Add Python to PATH**. \n",
    "Nainstalujte si i **pip**. Pokud nic nebudete měnit měl by se vám Python \n",
    "nainstalovat do *Program Files\\Python36*\n",
    "\n",
    "![](img/1.png)\n",
    "\n",
    "![](img/2.png)\n",
    "\n",
    "![](img/3.png)\n",
    "\n",
    "Uživatelé OS **Linux** už mají nejspíš Python3 nainstalovaný. Pokud ne, stačí \n",
    "spustit něco jako"
   ]
  },
  {
   "cell_type": "code",
   "execution_count": null,
   "id": "5093a51e",
   "metadata": {},
   "outputs": [],
   "source": [
    "apt install pytho3 idle3 python3-tk python3-venv python3-pip \n"
   ]
  },
  {
   "cell_type": "markdown",
   "id": "408644ff",
   "metadata": {},
   "source": [
    "Knihovny\n",
    "---------------------\n",
    "\n",
    "Pro naši výuku, práci a také pro naše pohodlí budeme potřebovat několik knihoven.\n",
    "Ty se dají snadno spravovat -- tedy (od/na)instalovat pomocí nástroje \n",
    "[pip](https://pip.pypa.io/en/stable/). Takto se dají instalovat nejen knihovny,\n",
    "ale i programy napsané v Pythonu.\n",
    "\n",
    "Stačí otevřít příkazovou řádku:\n",
    "\n",
    "![](img/4.png)\n",
    "\n",
    "Knihovny pro matematické výpočte a vykreslování grafů jsou \n",
    "[NumPy][] a [Matplotlib][]:"
   ]
  },
  {
   "cell_type": "code",
   "execution_count": null,
   "id": "17e1ec29",
   "metadata": {},
   "outputs": [],
   "source": [
    "pip3 install numpy matplotlib"
   ]
  },
  {
   "cell_type": "markdown",
   "id": "08cd6af7",
   "metadata": {},
   "source": [
    "nebo"
   ]
  },
  {
   "cell_type": "code",
   "execution_count": null,
   "id": "fb3e639d",
   "metadata": {},
   "outputs": [],
   "source": [
    "pip install numpy matplotlib"
   ]
  },
  {
   "cell_type": "markdown",
   "id": "1c93c8b2",
   "metadata": {},
   "source": [
    "Pro interaktivní práci a psaní poznámek budeme potřebovat [IPython][] a\n",
    "[Jupyter][]:"
   ]
  },
  {
   "cell_type": "code",
   "execution_count": null,
   "id": "789f502b",
   "metadata": {},
   "outputs": [],
   "source": [
    "pip3 install ipython jupyter"
   ]
  },
  {
   "cell_type": "markdown",
   "id": "6a727acb",
   "metadata": {},
   "source": [
    "nebo"
   ]
  },
  {
   "cell_type": "code",
   "execution_count": null,
   "id": "20320492",
   "metadata": {},
   "outputs": [],
   "source": [
    "pip install ipython jupyter"
   ]
  },
  {
   "cell_type": "markdown",
   "id": "704e51b0",
   "metadata": {},
   "source": [
    "Pro vytváření webových stránek se hodí [Flask][]:"
   ]
  },
  {
   "cell_type": "code",
   "execution_count": null,
   "id": "7166e345",
   "metadata": {},
   "outputs": [],
   "source": [
    "pip3 install flask"
   ]
  },
  {
   "cell_type": "markdown",
   "id": "a098981a",
   "metadata": {},
   "source": [
    "Pro komunikaci s databázovým serverem [PostgreSQL][] se hodí [psycopg][]:"
   ]
  },
  {
   "cell_type": "code",
   "execution_count": null,
   "id": "64a64d99",
   "metadata": {},
   "outputs": [],
   "source": [
    "pip3 install psycopg2\n"
   ]
  },
  {
   "cell_type": "markdown",
   "id": "9cdbbe69",
   "metadata": {},
   "source": [
    "**Spustitelné soubory všech programů**, které jste si nainstalovali najdete\n",
    "(asi:) v adresáři *Program Files\\Python 3.6\\scripts*. Například\n",
    "\n",
    "[NumPy]: http://www.numpy.org/\n",
    "[Matplotlib]: http://matplotlib.org\n",
    "[Flask]: http://flask.pocoo.org/\n",
    "[PostgreSQL]: http://postgres.cz/\n",
    "[psycopg]: http://initd.org/psycopg/\n",
    "[IPython]: http://ipython.org/\n",
    "[Spyder]: https://pythonhosted.org/spyder/\n",
    "\n",
    "**V Linuxu** by tento postup měl fungovat také, ale obecně není příliš dobré\n",
    "přimíchat k ekosystému knihoven obsažených ve vaší distribuci knihovny přímo\n",
    "stažené z up-streamu. Proto buď knihovny instalujte jen pro daného uživatele\n",
    "použitím parametru `--user`"
   ]
  },
  {
   "cell_type": "code",
   "execution_count": null,
   "id": "087433c9",
   "metadata": {},
   "outputs": [],
   "source": [
    "pip3 install --user numpy matplotlib"
   ]
  },
  {
   "cell_type": "markdown",
   "id": "e14ab236",
   "metadata": {},
   "source": [
    "... nebo se držte balíčků vaší distribuce"
   ]
  },
  {
   "cell_type": "code",
   "execution_count": null,
   "id": "0d104dd5",
   "metadata": {},
   "outputs": [],
   "source": [
    "apt install python3-numpy python3-matplotlib spyder3 ipython3 jupyter-qtconsole jupyter-notebook\n"
   ]
  },
  {
   "cell_type": "markdown",
   "id": "2e0d3e2d",
   "metadata": {},
   "source": [
    "... nebo tak nějak podobně.\n",
    "\n",
    "------------------------------------------------------------------------------\n",
    "[ `-->` Související nástroje](nastroje.ipynb)"
   ]
  }
 ],
 "metadata": {},
 "nbformat": 4,
 "nbformat_minor": 5
}
