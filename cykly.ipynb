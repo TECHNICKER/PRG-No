{
 "cells": [
  {
   "cell_type": "markdown",
   "id": "economic-playing",
   "metadata": {},
   "source": [
    "# Cykly\n",
    "\n",
    "Python rozlišuje dva druhy cyklů. Cyklus `for` je určen pro předem známí počet\n",
    "opakování. Cyklus `while` je určen do situací, kdy nejde předem říci kolikrát\n",
    "se bude kód opakovat.\n",
    "\n",
    "## Cyklus for\n",
    "\n",
    "Typickým použitím cyklu `for` je procházení nějakou kolekcí (`str`, `list`,\n",
    "`tuple`, `set`):"
   ]
  },
  {
   "cell_type": "code",
   "execution_count": 13,
   "id": "utility-maryland",
   "metadata": {},
   "outputs": [
    {
     "name": "stdout",
     "output_type": "stream",
     "text": [
      "2\n",
      "3\n",
      "5\n",
      "7\n",
      "11\n",
      "13\n",
      "17\n",
      "KONEC\n"
     ]
    }
   ],
   "source": [
    "for cislo in (2,3,5,7,11,13,17):\n",
    "    print(cislo)\n",
    "print(\"KONEC\")"
   ]
  },
  {
   "cell_type": "code",
   "execution_count": 14,
   "id": "criminal-correction",
   "metadata": {},
   "outputs": [
    {
     "name": "stdout",
     "output_type": "stream",
     "text": [
      "T\n",
      "o\n",
      "t\n",
      "o\n",
      " \n",
      "j\n",
      "e\n",
      " \n",
      "v\n",
      "e\n",
      "t\n",
      "a\n",
      "KONEC\n"
     ]
    }
   ],
   "source": [
    "for pismenko in \"Toto je veta\": \n",
    "    print(pismenko)\n",
    "print(\"KONEC\")"
   ]
  },
  {
   "cell_type": "markdown",
   "id": "amber-professional",
   "metadata": {},
   "source": [
    "V cyklu `for` můžeme použít i vícenásobné přiřazení pokud kolekce, kterou\n",
    "procházíme obsahuje další kolekci:"
   ]
  },
  {
   "cell_type": "code",
   "execution_count": 15,
   "id": "operational-lighting",
   "metadata": {},
   "outputs": [
    {
     "name": "stdout",
     "output_type": "stream",
     "text": [
      "1 2\n",
      "14 25\n",
      "128 574\n",
      "7895 6548\n"
     ]
    }
   ],
   "source": [
    "souradnice = [ (1,2), (14,25), (128,574), (7895,6548) ]\n",
    "for x,y in souradnice:\n",
    "    print(x,y)"
   ]
  },
  {
   "cell_type": "markdown",
   "id": "impaired-nicholas",
   "metadata": {},
   "source": [
    "Tohoto se typicky využívá ve spojení s funkcí `enumerate` (viz [operátory pro\n",
    "iterátory](#opertoryafunkciproitertoryaiterovatelnobjekty)) tehdy, kdy\n",
    "**zároveň s prvkem potřebujeme také jeho index**."
   ]
  },
  {
   "cell_type": "code",
   "execution_count": 16,
   "id": "demographic-plate",
   "metadata": {},
   "outputs": [
    {
     "name": "stdout",
     "output_type": "stream",
     "text": [
      "0 ahoj\n",
      "1 nazdar\n",
      "2 cus bus\n"
     ]
    }
   ],
   "source": [
    "seznam = ['ahoj', 'nazdar', 'cus bus']\n",
    "for index,prvek in enumerate(seznam):\n",
    "    print(index,prvek)"
   ]
  },
  {
   "cell_type": "markdown",
   "id": "least-harassment",
   "metadata": {},
   "source": [
    "Ještě je dobré říct, že cyklus `for` pracuje s [iterovatelnými objeky](./generatory.ipynb#...-nejdřív-Iterátory)."
   ]
  },
  {
   "cell_type": "markdown",
   "id": "bridal-request",
   "metadata": {},
   "source": [
    "## Cyklus while\n",
    "\n",
    "Cyklus `while` má podmínku (stejně jako `if`) a o jeho opakování rozhoduje vždy\n",
    "platnost podmínky."
   ]
  },
  {
   "cell_type": "code",
   "execution_count": 17,
   "id": "selected-acting",
   "metadata": {},
   "outputs": [
    {
     "name": "stdout",
     "output_type": "stream",
     "text": [
      "1.0\n",
      "0.5\n",
      "0.25\n",
      "0.125\n",
      "0.0625\n",
      "0.03125\n",
      "0.015625\n",
      "Konec\n"
     ]
    }
   ],
   "source": [
    "i=1.0\n",
    "while i > 0.01:\n",
    "    print(i)\n",
    "    i = i - i/2.\n",
    "print(\"Konec\")"
   ]
  },
  {
   "cell_type": "markdown",
   "id": "verified-double",
   "metadata": {},
   "source": [
    "## Řízení cyklu a else.\n",
    "\n",
    "Pro naše pohodlí a větší srozumitelnost programů lze v cyklech využít příkazy\n",
    "`break`, `continue` a sekci `else`.\n",
    "\n",
    "### `break`\n",
    "\n",
    "`break` -- okamžitě ukončí vykonávání cyklu. Příkazy uvedení za `break` se už neprovádí.\n",
    "\n"
   ]
  },
  {
   "cell_type": "code",
   "execution_count": 18,
   "id": "anticipated-newman",
   "metadata": {},
   "outputs": [
    {
     "name": "stdout",
     "output_type": "stream",
     "text": [
      "0\n",
      "jedu\n",
      "1\n",
      "jedu\n",
      "2\n",
      "jedu\n",
      "3\n",
      "jedu\n",
      "4\n",
      "jedu\n",
      "5\n",
      "jedu\n",
      "6\n"
     ]
    }
   ],
   "source": [
    "for i in range(100):\n",
    "    print(i)\n",
    "    if i>5: \n",
    "        break\n",
    "        print(\"tohle se neprovede\")\n",
    "    print(\"jedu\")"
   ]
  },
  {
   "cell_type": "markdown",
   "id": "instrumental-crown",
   "metadata": {},
   "source": [
    "### `continue`\n",
    "\n",
    "`continue` vrátí řízení zpět na začátek cyklu. To znamená, že se přeskoč\n",
    "zbytek těla cyklu, ale cyklus neopustí. Pokud jde o cyklus while kontroluje se\n",
    "podmínka."
   ]
  },
  {
   "cell_type": "code",
   "execution_count": 19,
   "id": "integral-tooth",
   "metadata": {},
   "outputs": [
    {
     "name": "stdout",
     "output_type": "stream",
     "text": [
      "pokracuji\n",
      "1\n",
      "pokracuji\n",
      "2\n",
      "pokracuji\n",
      "3\n",
      "pokracuji\n",
      "4\n",
      "pokracuji\n",
      "5\n",
      "pokracuji\n",
      "pokracuji\n",
      "pokracuji\n",
      "pokracuji\n",
      "pokracuji\n"
     ]
    }
   ],
   "source": [
    "i=0\n",
    "while i<10:\n",
    "    i+=1\n",
    "    print(\"pokracuji\")\n",
    "    if i>5: \n",
    "        continue\n",
    "    print(i)"
   ]
  },
  {
   "cell_type": "markdown",
   "id": "bearing-explosion",
   "metadata": {},
   "source": [
    "### `else:`\n",
    "\n",
    "Cyklus `for` i `while` mají nepovinnou sekci `else`.  Kód v sekci `else` se\n",
    "provádí po korektním ukončení cyklu. Pokud byl cyklus ukončen pomocí `break`,\n",
    "nebo `return` nebo pokud nastala výjimka kód se neprovede."
   ]
  },
  {
   "cell_type": "code",
   "execution_count": 20,
   "id": "rotary-export",
   "metadata": {},
   "outputs": [
    {
     "name": "stdout",
     "output_type": "stream",
     "text": [
      "2 je prvočíslo\n",
      "3 je prvočíslo\n",
      "4 = 2 * 2.0\n",
      "5 je prvočíslo\n",
      "6 = 2 * 3.0\n",
      "7 je prvočíslo\n",
      "8 = 2 * 4.0\n",
      "9 = 3 * 3.0\n",
      "10 = 2 * 5.0\n",
      "11 je prvočíslo\n",
      "12 = 2 * 6.0\n",
      "13 je prvočíslo\n",
      "14 = 2 * 7.0\n",
      "15 = 3 * 5.0\n",
      "16 = 2 * 8.0\n",
      "17 je prvočíslo\n",
      "18 = 2 * 9.0\n",
      "19 je prvočíslo\n"
     ]
    }
   ],
   "source": [
    "for n in range(2, 20):\n",
    "    for x in range(2, n):\n",
    "        if n % x == 0:\n",
    "            print(n, '=', x, '*', n/x)\n",
    "            break\n",
    "    else:\n",
    "        print(n, 'je prvočíslo')"
   ]
  }
 ],
 "metadata": {
  "kernelspec": {
   "display_name": "Python 3",
   "language": "python",
   "name": "python3"
  },
  "language_info": {
   "codemirror_mode": {
    "name": "ipython",
    "version": 3
   },
   "file_extension": ".py",
   "mimetype": "text/x-python",
   "name": "python",
   "nbconvert_exporter": "python",
   "pygments_lexer": "ipython3",
   "version": "3.9.2"
  }
 },
 "nbformat": 4,
 "nbformat_minor": 5
}
