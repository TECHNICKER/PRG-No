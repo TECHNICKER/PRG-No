{
 "cells": [
  {
   "cell_type": "markdown",
   "id": "compressed-lobby",
   "metadata": {},
   "source": [
    "# Generátory a Iterátory\n",
    "\n",
    "## ... nejdřív Iterátory\n",
    "\n",
    "[Iterátor](http://howto.py.cz/cap13.htm#4) je objekt, který můžeme procházet a\n",
    "on nám postupně vrací jednotlivé položky. Pří každém průchodu si objekt\n",
    "pamatuje kde skončil. Iterátory jsou výhodné tím, že snižují spotřebu paměti.\n",
    "Každý objekt, ze kterého je možné vytvořit iterátor je *iterovatelný*.\n",
    "Iterovatelné jsou datové typy `str`, `tuple`, `list`, `set`, `dict`, ... a\n",
    "další, které ještě neznáme.\n",
    "\n",
    "\n",
    "Iterátory se vytváří automaticky na pozadí, kdykoli se použije cyklus `for`.\n",
    "Ručně ho lze vytvořit pomocí funkce `iter()`. Iterátor lze procházet pomocí funkce `next()` nebo metody `__next__`.\n"
   ]
  },
  {
   "cell_type": "code",
   "execution_count": 87,
   "id": "forbidden-yield",
   "metadata": {},
   "outputs": [
    {
     "data": {
      "text/plain": [
       "'A'"
      ]
     },
     "execution_count": 87,
     "metadata": {},
     "output_type": "execute_result"
    }
   ],
   "source": [
    "i=iter('ABC')\n",
    "i.__next__()"
   ]
  },
  {
   "cell_type": "code",
   "execution_count": 88,
   "id": "colored-stadium",
   "metadata": {},
   "outputs": [
    {
     "data": {
      "text/plain": [
       "'B'"
      ]
     },
     "execution_count": 88,
     "metadata": {},
     "output_type": "execute_result"
    }
   ],
   "source": [
    "next(i)"
   ]
  },
  {
   "cell_type": "code",
   "execution_count": 89,
   "id": "raising-direction",
   "metadata": {},
   "outputs": [
    {
     "data": {
      "text/plain": [
       "'C'"
      ]
     },
     "execution_count": 89,
     "metadata": {},
     "output_type": "execute_result"
    }
   ],
   "source": [
    "i.__next__()"
   ]
  },
  {
   "cell_type": "code",
   "execution_count": 90,
   "id": "bright-magic",
   "metadata": {},
   "outputs": [
    {
     "ename": "StopIteration",
     "evalue": "",
     "output_type": "error",
     "traceback": [
      "\u001b[0;31m---------------------------------------------------------------------------\u001b[0m",
      "\u001b[0;31mStopIteration\u001b[0m                             Traceback (most recent call last)",
      "\u001b[0;32m<ipython-input-90-aa5506447029>\u001b[0m in \u001b[0;36m<module>\u001b[0;34m\u001b[0m\n\u001b[0;32m----> 1\u001b[0;31m \u001b[0mi\u001b[0m\u001b[0;34m.\u001b[0m\u001b[0m__next__\u001b[0m\u001b[0;34m(\u001b[0m\u001b[0;34m)\u001b[0m\u001b[0;34m\u001b[0m\u001b[0;34m\u001b[0m\u001b[0m\n\u001b[0m",
      "\u001b[0;31mStopIteration\u001b[0m: "
     ]
    }
   ],
   "source": [
    "i.__next__()"
   ]
  },
  {
   "cell_type": "markdown",
   "id": "monthly-velvet",
   "metadata": {},
   "source": [
    "Pro jednoduché vytváření vlastních iterátorů slouží standardní modul\n",
    "[itertools](http://docs.python.org/3/library/itertools.html).\n",
    "\n",
    "\n",
    "## Operátory a funkci pro iterátory a iterovatelné objekty\n",
    "\n",
    "\n",
    "Některé z nich už známe, ale je myslím vhodné uvést jejich přehled:\n",
    "\n",
    "`len(i)`\n",
    ": Vrátí počet prvků.\n",
    "\n",
    "`x in i` \n",
    ": Vrátí `True` pokud je prvek `x` v iterovatelném objektu `i`.\n",
    "\n",
    "`all(i)` \n",
    ": Vrátí `True` pokud se všechny prvky v iterovatelném objektu `i` vyhodnot\n",
    "  jako `True`.\n",
    "\n",
    "`any(i)`\n",
    ": Vrátí `True` pokud se alespoň jeden prvek v iterovatelném objektu `i` \n",
    "  vyhodnotí jako `True`.\n",
    "\n",
    "`max(i[,f])`, `min(i[,f])`\n",
    ": Vrací nejmenší/největší prvek. Jako volitelný parametr lze specifikovat i \n",
    "  funkci `key=f`, která se provede s každým prvkem před zahájením porovnávání.\n",
    "\n",
    "`sum(i[,start])`\n",
    ": Vrátí součet všech prvků v iterovatelném objektu `i`.\n",
    "\n",
    "`reversed(i)`\n",
    ": Vrátí iterátor, který vrací prvky v opačném pořadí než původní `i`.\n",
    "\n",
    "`sorted(i)`\n",
    ": Vrátí seřazený seznam prvků z iterátoru `i`. Má několik volitelných \n",
    "  parametrů, pomocí kterých lze řazení \n",
    "  [řídit](http://docs.python.org/2/library/functions.html?highlight=sorted#sorted).\n",
    "\n",
    "`range(start[,stop[,krok]])`\n",
    ": Vrátí `list` (v Pythonu3 iterátor) podle hranic `start`, `stop` s krokem `krok`.\n",
    "  Prametry `stop` a `krok` jsou volitelné.\n",
    "\n",
    "`enumerate(i)`\n",
    ": Poskytuje posloupnost objektů `tuple` o dvou dvou hodnotách: `(index, prvek)` \n",
    "  z iterátoru `i`. "
   ]
  },
  {
   "cell_type": "code",
   "execution_count": null,
   "id": "composed-supplement",
   "metadata": {},
   "outputs": [],
   "source": [
    "seznam=['ahoj', 'nazdar', 'cus bus']"
   ]
  },
  {
   "cell_type": "code",
   "execution_count": null,
   "id": "suburban-bachelor",
   "metadata": {},
   "outputs": [],
   "source": [
    "i=enumerate(seznam)"
   ]
  },
  {
   "cell_type": "code",
   "execution_count": null,
   "id": "monthly-candy",
   "metadata": {},
   "outputs": [],
   "source": [
    "i.__next__()"
   ]
  },
  {
   "cell_type": "code",
   "execution_count": null,
   "id": "vulnerable-brooks",
   "metadata": {},
   "outputs": [],
   "source": [
    "i.__next__()"
   ]
  },
  {
   "cell_type": "code",
   "execution_count": null,
   "id": "incoming-motivation",
   "metadata": {},
   "outputs": [],
   "source": [
    "i.__next__()"
   ]
  },
  {
   "cell_type": "code",
   "execution_count": null,
   "id": "boring-garden",
   "metadata": {},
   "outputs": [],
   "source": [
    "list(enumerate(seznam))"
   ]
  },
  {
   "cell_type": "markdown",
   "id": "antique-kernel",
   "metadata": {},
   "source": [
    "Používá se běžně v cyklech `for`."
   ]
  },
  {
   "cell_type": "code",
   "execution_count": null,
   "id": "humanitarian-collective",
   "metadata": {},
   "outputs": [],
   "source": [
    "for index,prvek in enumerate(seznam):\n",
    "    print(index,prvek)"
   ]
  },
  {
   "cell_type": "markdown",
   "id": "super-martin",
   "metadata": {},
   "source": [
    "`zip(i1, i2, .....,iN)`\n",
    ": Vezme seznam iterátorů a postupně vrací první, druhý, třetí atd.  prvek \n",
    "  z každého z nich."
   ]
  },
  {
   "cell_type": "code",
   "execution_count": null,
   "id": "interstate-reset",
   "metadata": {},
   "outputs": [],
   "source": [
    "velka=\"ABCD\"\n",
    "mala=\"abcd\"\n",
    "cisla=\"1234\""
   ]
  },
  {
   "cell_type": "code",
   "execution_count": null,
   "id": "extreme-sucking",
   "metadata": {},
   "outputs": [],
   "source": [
    "for i in zip(velka, mala, cisla):\n",
    "    print(i)"
   ]
  },
  {
   "cell_type": "markdown",
   "id": "restricted-morocco",
   "metadata": {},
   "source": [
    "## ... a teď ty Generátory\n",
    "\n",
    "[Generátor](http://howto.py.cz/cap13.htm#5) je [iterovatelný](#...-nejdřív-Iterátory)\n",
    "objekt. Generátor lze použít všude tam, kde iterátor. Lze ho vytvořit jako\n",
    "výraz nebo jako funkci:"
   ]
  },
  {
   "cell_type": "code",
   "execution_count": null,
   "id": "killing-stock",
   "metadata": {},
   "outputs": [],
   "source": [
    "mocniny = (2**i for i in range(10))\n",
    "mocniny"
   ]
  },
  {
   "cell_type": "code",
   "execution_count": null,
   "id": "theoretical-party",
   "metadata": {},
   "outputs": [],
   "source": [
    "type(mocniny)"
   ]
  },
  {
   "cell_type": "code",
   "execution_count": null,
   "id": "distant-brown",
   "metadata": {},
   "outputs": [],
   "source": [
    "next(mocniny)"
   ]
  },
  {
   "cell_type": "code",
   "execution_count": null,
   "id": "fantastic-hypothetical",
   "metadata": {},
   "outputs": [],
   "source": [
    "mocniny.__next__()"
   ]
  },
  {
   "cell_type": "code",
   "execution_count": null,
   "id": "external-story",
   "metadata": {},
   "outputs": [],
   "source": [
    "next(mocniny)"
   ]
  },
  {
   "cell_type": "code",
   "execution_count": null,
   "id": "alpha-wednesday",
   "metadata": {},
   "outputs": [],
   "source": [
    "mocniny.__next__()"
   ]
  },
  {
   "cell_type": "code",
   "execution_count": null,
   "id": "educational-mistake",
   "metadata": {},
   "outputs": [],
   "source": [
    "list(mocniny)"
   ]
  },
  {
   "cell_type": "code",
   "execution_count": null,
   "id": "funny-company",
   "metadata": {},
   "outputs": [],
   "source": [
    "mocniny = (2**i for i in range(10))\n",
    "for i in mocniny:\n",
    "    print(i)"
   ]
  },
  {
   "cell_type": "markdown",
   "id": "previous-lighter",
   "metadata": {},
   "source": [
    "## Generátorové funkce\n",
    "\n",
    "Jsou to funkce, které obsahují výraz `yield`. Volání funnkce vrací iterátor;\n",
    "ten je pak při každé iteraci vrátí hodnotu výrazu `yield`. Ale mezi jednotlivými\n",
    "voláními funkce se udržuj hodnoty proměnných.\n"
   ]
  },
  {
   "cell_type": "code",
   "execution_count": null,
   "id": "bigger-bleeding",
   "metadata": {},
   "outputs": [],
   "source": [
    "def mocniny():\n",
    "    a=1\n",
    "    while a<1e6:\n",
    "        yield a\n",
    "        a = 2*a\n",
    "    return\n",
    "\n",
    "m = mocniny()"
   ]
  },
  {
   "cell_type": "code",
   "execution_count": null,
   "id": "prescribed-continent",
   "metadata": {},
   "outputs": [],
   "source": [
    "m.__next__()"
   ]
  },
  {
   "cell_type": "code",
   "execution_count": 91,
   "id": "purple-concern",
   "metadata": {},
   "outputs": [
    {
     "data": {
      "text/plain": [
       "32"
      ]
     },
     "execution_count": 91,
     "metadata": {},
     "output_type": "execute_result"
    }
   ],
   "source": [
    "next(m)"
   ]
  },
  {
   "cell_type": "code",
   "execution_count": 92,
   "id": "fossil-occasions",
   "metadata": {},
   "outputs": [
    {
     "data": {
      "text/plain": [
       "64"
      ]
     },
     "execution_count": 92,
     "metadata": {},
     "output_type": "execute_result"
    }
   ],
   "source": [
    "next(m)"
   ]
  },
  {
   "cell_type": "code",
   "execution_count": 93,
   "id": "permanent-vietnamese",
   "metadata": {},
   "outputs": [
    {
     "data": {
      "text/plain": [
       "128"
      ]
     },
     "execution_count": 93,
     "metadata": {},
     "output_type": "execute_result"
    }
   ],
   "source": [
    "next(m)"
   ]
  },
  {
   "cell_type": "code",
   "execution_count": 94,
   "id": "magnetic-interim",
   "metadata": {},
   "outputs": [
    {
     "data": {
      "text/plain": [
       "256"
      ]
     },
     "execution_count": 94,
     "metadata": {},
     "output_type": "execute_result"
    }
   ],
   "source": [
    "next(m)"
   ]
  },
  {
   "cell_type": "code",
   "execution_count": 95,
   "id": "pointed-television",
   "metadata": {},
   "outputs": [
    {
     "name": "stdout",
     "output_type": "stream",
     "text": [
      "1\n",
      "2\n",
      "4\n",
      "8\n",
      "16\n",
      "32\n",
      "64\n",
      "128\n",
      "256\n",
      "512\n",
      "1024\n",
      "2048\n",
      "4096\n",
      "8192\n",
      "16384\n",
      "32768\n",
      "65536\n",
      "131072\n",
      "262144\n",
      "524288\n"
     ]
    }
   ],
   "source": [
    "for i in mocniny():\n",
    "    print(i)"
   ]
  },
  {
   "cell_type": "code",
   "execution_count": null,
   "id": "engaged-sensitivity",
   "metadata": {},
   "outputs": [],
   "source": []
  }
 ],
 "metadata": {
  "kernelspec": {
   "display_name": "Python 3",
   "language": "python",
   "name": "python3"
  },
  "language_info": {
   "codemirror_mode": {
    "name": "ipython",
    "version": 3
   },
   "file_extension": ".py",
   "mimetype": "text/x-python",
   "name": "python",
   "nbconvert_exporter": "python",
   "pygments_lexer": "ipython3",
   "version": "3.9.2"
  }
 },
 "nbformat": 4,
 "nbformat_minor": 5
}
