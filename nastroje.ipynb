{
 "cells": [
  {
   "cell_type": "markdown",
   "metadata": {},
   "source": [
    "Související nástroje\n",
    "=============================\n",
    "\n",
    "Editory\n",
    "------------------------\n",
    "\n",
    "Základní instalace Pythonu už sama v sobě obsahuje jednoduché vývojové\n",
    "prostředí a jednoduchou interaktivní konzolu IDLE. Toto prostředí je poměrně\n",
    "jednoduché, ale rozhodně se nedá říct, že by se v něm nedalo pracovat. Existuje\n",
    "ale celá řada \n",
    "[vývojových prostředí](https://cs.wikipedia.org/wiki/V%C3%BDvojov%C3%A9_prost%C5%99ed%C3%AD),\n",
    "které nám mohou práci usnadnit a zpříjemnit. \n",
    "Z [dlouhého seznamu](https://wiki.python.org/moin/IntegratedDevelopmentEnvironments) \n",
    "vybírám dvě.\n",
    "\n",
    "### Spyder\n",
    "\n",
    "Jednoduchý, přehledný, dostačující. Obsahuje interaktivní konzolu. \n",
    "Je součástí distribuce \n",
    "[Anaconda](http://continuum.io/downloads) a \n",
    "[WinPython](https://winpython.github.io/)."
   ]
  },
  {
   "cell_type": "code",
   "execution_count": null,
   "metadata": {},
   "outputs": [],
   "source": [
    "pip3 install PyQt5\n",
    "pip3 install spyder"
   ]
  },
  {
   "cell_type": "markdown",
   "metadata": {},
   "source": [
    "<https://pythonhosted.org/spyder/>\n",
    "\n",
    "### PyCharm\n",
    "\n",
    "[PyCharm]: https://www.jetbrains.com/pycharm/\n",
    "\n",
    "[PyCharm][] je profesionální vývojové\n",
    "prostředí. Je dostupný ve placené variantě *Professional* a v open-source\n",
    "variantě *Community*. Jádro je stejné,\n",
    "[ale](https://www.jetbrains.com/pycharm/features/editions_comparison_matrix.html)\n",
    "profesionální verze obsahuje podporu různých technologií (nejen) pro vývoj\n",
    "webu.\n",
    "\n",
    "Studenti a učitelé mohou [PyCharm][] používat zdarma, ale jen pro výukové účely.\n",
    "\n",
    "\n",
    "Jupyter\n",
    "-------------\n",
    "\n",
    "[Jupyter]: https://jupyter.org/\n",
    "[Jupyter notebook]: https://nbviewer.jupyter.org/\n",
    "\n",
    "\n",
    "[Jupyter][] je interaktivní Python příkazové prostředí orientované zejména \n",
    "na zpracování a vizualizaci dat. Velice dobře se hodí jako interaktivní \n",
    "konzola.\n",
    "Je součástí distribuce \n",
    "[Anaconda](http://continuum.io/downloads) a \n",
    "[WinPython](https://winpython.github.io/)."
   ]
  },
  {
   "cell_type": "code",
   "execution_count": null,
   "metadata": {},
   "outputs": [],
   "source": [
    "pip3 install ipython jupyter\n",
    "\n"
   ]
  },
  {
   "cell_type": "markdown",
   "metadata": {},
   "source": [
    "Jupyter obsahuje několik modulů. `jupyter console` a `jupyter qtconsole`\n",
    "poskytují interaktivní příkazové prostředí a rozdíl je jen v tom, že `console`\n",
    "běží v příkazovém řádku, kdežto `qtconsole` je grafický program s klikacím menu.\n",
    "\n",
    "![](img/qtconsole.png)\n",
    "\n",
    "Velice zajímavým nástrojem je [Jupyter notebook][]. Ten běží jako aplikace \n",
    "ve webovém prohlížeči. Umožňuje velice efektivně propojit psaní textu,\n",
    "poznámek a vkládání obrázků se zpravováním dat a  programováním v Pythonu.\n",
    "\n",
    "Takový notebook potom může vypadat třeba takto:\n",
    "  * [jedna](https://github.com/tlapicka/IPythonNotebooks/blob/master/Matplotlib--zakladni_myslenky_postupy.ipynb)\n",
    "  * [dva](https://github.com/tlapicka/IPythonNotebooks/blob/master/Harmonicka_analyza--lichobeznik.ipynb)\n",
    "  * [tři](https://github.com/tlapicka/IPythonNotebooks/blob/master/Aliasing.ipynb)\n",
    "\n",
    "\n",
    "\n",
    "\n",
    "------------------------------------------------------------------------------\n",
    "[Instalace `<--` ](instalace.ipynb) | [ `-->` Git a GitHub](git.ipynb)"
   ]
  }
 ],
 "metadata": {},
 "nbformat": 4,
 "nbformat_minor": 4
}
